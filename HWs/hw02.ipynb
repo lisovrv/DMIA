{
 "cells": [
  {
   "cell_type": "markdown",
   "metadata": {},
   "source": [
    "# Домашняя работа №1\n",
    "## Применение линейных моделей для классификации фотографий с цифрами 5 и 6"
   ]
  },
  {
   "cell_type": "code",
   "execution_count": 1,
   "metadata": {},
   "outputs": [
    {
     "ename": "ModuleNotFoundError",
     "evalue": "No module named 'tqdm'",
     "output_type": "error",
     "traceback": [
      "\u001b[0;31m---------------------------------------------------------------------------\u001b[0m",
      "\u001b[0;31mModuleNotFoundError\u001b[0m                       Traceback (most recent call last)",
      "\u001b[0;32m<ipython-input-1-a76aa31f756a>\u001b[0m in \u001b[0;36m<module>\u001b[0;34m()\u001b[0m\n\u001b[1;32m      8\u001b[0m \u001b[0;32mimport\u001b[0m \u001b[0mnumpy\u001b[0m \u001b[0;32mas\u001b[0m \u001b[0mnp\u001b[0m\u001b[0;34m\u001b[0m\u001b[0m\n\u001b[1;32m      9\u001b[0m \u001b[0;32mimport\u001b[0m \u001b[0mmatplotlib\u001b[0m\u001b[0;34m.\u001b[0m\u001b[0mpylab\u001b[0m \u001b[0;32mas\u001b[0m \u001b[0mplt\u001b[0m\u001b[0;34m\u001b[0m\u001b[0m\n\u001b[0;32m---> 10\u001b[0;31m \u001b[0;32mimport\u001b[0m \u001b[0mtqdm\u001b[0m\u001b[0;34m\u001b[0m\u001b[0m\n\u001b[0m\u001b[1;32m     11\u001b[0m \u001b[0;32mimport\u001b[0m \u001b[0mmath\u001b[0m\u001b[0;34m\u001b[0m\u001b[0m\n\u001b[1;32m     12\u001b[0m \u001b[0;32mfrom\u001b[0m \u001b[0msklearn\u001b[0m\u001b[0;34m.\u001b[0m\u001b[0mmetrics\u001b[0m \u001b[0;32mimport\u001b[0m \u001b[0maccuracy_score\u001b[0m\u001b[0;34m\u001b[0m\u001b[0m\n",
      "\u001b[0;31mModuleNotFoundError\u001b[0m: No module named 'tqdm'"
     ]
    }
   ],
   "source": [
    "import pickle\n",
    "import numpy as np\n",
    "import PIL.Image\n",
    "import itertools\n",
    "from IPython.core.display import Image, display\n",
    "import scipy.ndimage\n",
    "import random\n",
    "import numpy as np\n",
    "import matplotlib.pylab as plt\n",
    "import tqdm\n",
    "import math\n",
    "from sklearn.metrics import accuracy_score\n",
    "from sklearn.model_selection import train_test_split\n",
    "%matplotlib inline"
   ]
  },
  {
   "cell_type": "markdown",
   "metadata": {},
   "source": [
    "### Фиксирование рандомных величин"
   ]
  },
  {
   "cell_type": "code",
   "execution_count": 50,
   "metadata": {},
   "outputs": [],
   "source": [
    "np.random.seed(11)"
   ]
  },
  {
   "cell_type": "markdown",
   "metadata": {},
   "source": [
    "### Загрузка данных с файла"
   ]
  },
  {
   "cell_type": "code",
   "execution_count": 64,
   "metadata": {},
   "outputs": [],
   "source": [
    "#Тестовая и обучающая выборки\n",
    "with open('./hw_1_train.pickle', 'rb') as f:\n",
    "    train = pickle.load(f)\n",
    "    \n",
    "#Выборка, результат которой мы должны предсказать\n",
    "with open('./hw_1_test_no_lables.pickle', 'rb') as f:\n",
    "    test_no_lables = pickle.load(f)"
   ]
  },
  {
   "cell_type": "markdown",
   "metadata": {},
   "source": [
    "### Пример, как можно визуализировать данные"
   ]
  },
  {
   "cell_type": "code",
   "execution_count": 65,
   "metadata": {},
   "outputs": [
    {
     "data": {
      "text/plain": [
       "<matplotlib.image.AxesImage at 0x1a15e3ba58>"
      ]
     },
     "execution_count": 65,
     "metadata": {},
     "output_type": "execute_result"
    },
    {
     "data": {
      "image/png": "[encoded data removed]",
      "text/plain": [
       "<Figure size 432x288 with 1 Axes>"
      ]
     },
     "metadata": {
      "needs_background": "light"
     },
     "output_type": "display_data"
    }
   ],
   "source": [
    "plt.imshow(train['data'][80].reshape(28,28))"
   ]
  },
  {
   "cell_type": "markdown",
   "metadata": {},
   "source": [
    "### Итак, поехали"
   ]
  },
  {
   "cell_type": "code",
   "execution_count": 66,
   "metadata": {},
   "outputs": [
    {
     "data": {
      "application/vnd.jupyter.widget-view+json": {
       "model_id": "b4dcfb69c8ce487997eae5a7d72a94a5",
       "version_major": 2,
       "version_minor": 0
      },
      "text/plain": [
       "HBox(children=(IntProgress(value=0, max=65), HTML(value='')))"
      ]
     },
     "metadata": {},
     "output_type": "display_data"
    },
    {
     "name": "stdout",
     "output_type": "stream",
     "text": [
      "\n",
      "254.68450953833718\n",
      "135.95577230246332\n",
      "0.984\n"
     ]
    }
   ],
   "source": [
    "data_train = train['data'] \n",
    "labels_train = train['labels']\n",
    "\n",
    "def norm_data(data):\n",
    "    mean = np.mean(data, axis = 0)\n",
    "    std = np.std (data, axis = 0)\n",
    "    data = (data - mean) / (std + 0.0001)\n",
    "\n",
    "    # добавляем единичную колонку для w0\n",
    "    data = np.hstack([ np.ones((data.shape[0], 1)), data] )\n",
    "    return data\n",
    "\n",
    "def sigmoid_function(w,x):\n",
    "    return 1/(1 + math.exp(-np.dot(w,x)))\n",
    "\n",
    "def predict(w, x):\n",
    "    return [sigmoid_function(w, xx) for xx in x]\n",
    "\n",
    "def logloss (x,w,y):\n",
    "    sum_= 0\n",
    "    for i in range (len(y)):\n",
    "        sum_ = sum_ + math.log1p(math.exp((-1)*np.dot(w.T,x[i])*y[i]))\n",
    "    return sum_\n",
    "\n",
    "def pred(w, x):\n",
    "    return [1 if sigmoid_function(w, xx) > 0.5 else -1 for xx in x]\n",
    "\n",
    "#конвертация к 1/-1\n",
    "labels_train_ = labels_train - 6\n",
    "labels_train_[labels_train_ == 0] = 1\n",
    "data_train_ = norm_data(data_train)\n",
    "\n",
    "#Разделение на тестовую и обучающую выборку\n",
    "x_train, x_test, y_train, y_test = train_test_split(data_train_, labels_train_, random_state=1)\n",
    "\n",
    "\n",
    "# Инициализируем веса случайны образом\n",
    "w = np.random.normal( scale=0.00001, size = x_train.shape[1])\n",
    "\n",
    "#массивы для сбора данных\n",
    "\n",
    "k = 65\n",
    "log_loss_train = np.zeros(x_train.shape[0]*k)\n",
    "log_loss_test = np.zeros(x_train.shape[0]*k)\n",
    "persentage_train = np.zeros(x_train.shape[0]*k)\n",
    "persentage_test = np.zeros(x_train.shape[0]*k)\n",
    "\n",
    "iter_ = 0\n",
    "l_r = 0.0003\n",
    "\n",
    "#цикл обучения\n",
    "import tqdm\n",
    "for iter in tqdm.tqdm_notebook(range(k)):\n",
    "    l_r = l_r - 0.000000001\n",
    "    for i in range(int(x_train.shape[0])):\n",
    "        \n",
    "        j = np.random.randint(0, x_train.shape[0])\n",
    "        grad = - y_train[j] * x_train[j] / \\\n",
    "            ( 1 + math.exp( y_train[j] * np.dot(w.T, x_train[j]))) + 0.0001*w\n",
    "        \n",
    "        #log_loss_train[iter_] = logloss (x_train,w,y_train)\n",
    "        #log_loss_test[iter_] = logloss (x_test,w,y_test)\n",
    "        #persentage_train[iter_] = accuracy_score(pred(w,x_train), y_train)\n",
    "        #persentage_test[iter_] = accuracy_score(pred(w,x_test), y_test) \n",
    "        w = w - l_r * grad\n",
    "        iter_ += 1\n",
    "        \n",
    "print (logloss (x_train,w,y_train))        \n",
    "print (logloss (x_test,w,y_test))\n",
    "print (accuracy_score(pred(w,x_test), y_test))\n",
    "#x = np.arange(iter_)"
   ]
  },
  {
   "cell_type": "markdown",
   "metadata": {},
   "source": [
    "### Отображаем полученные графики"
   ]
  },
  {
   "cell_type": "code",
   "execution_count": 35,
   "metadata": {},
   "outputs": [
    {
     "data": {
      "image/png": "[encoded data removed]",
      "text/plain": [
       "<Figure size 720x360 with 1 Axes>"
      ]
     },
     "metadata": {
      "needs_background": "light"
     },
     "output_type": "display_data"
    }
   ],
   "source": [
    "plt.figure(figsize=(10,5))\n",
    "plt.title('LogLoss')\n",
    "plt.plot(x, log_loss_train/len(log_loss_train), '-', label='train')\n",
    "plt.plot(x, log_loss_test/len(log_loss_test), '-', label='test')\n",
    "plt.legend()\n",
    "plt.show()\n",
    "\n"
   ]
  },
  {
   "cell_type": "code",
   "execution_count": 37,
   "metadata": {},
   "outputs": [
    {
     "data": {
      "image/png": "[encoded data removed]",
      "text/plain": [
       "<Figure size 720x360 with 1 Axes>"
      ]
     },
     "metadata": {
      "needs_background": "light"
     },
     "output_type": "display_data"
    }
   ],
   "source": [
    "plt.figure(figsize=(10,5))\n",
    "plt.title('Acc')\n",
    "plt.plot(x, persentage_train, '-', label='train')\n",
    "plt.plot(x, persentage_test, '-', label='test')\n",
    "plt.legend()\n",
    "plt.show()"
   ]
  },
  {
   "cell_type": "markdown",
   "metadata": {},
   "source": [
    "# Сохраняем данные для кагла"
   ]
  },
  {
   "cell_type": "code",
   "execution_count": 48,
   "metadata": {},
   "outputs": [],
   "source": [
    "test_no_lables_ = norm_data(test_no_lables['data'])\n",
    "with open('new_solution.csv', 'w') as fout:\n",
    "    print(\"Id,Prediction\", file=fout)\n",
    "    for i in range(len(test_no_lables['data'])):\n",
    "        print(i, sigmoid_function(w,test_no_lables_[i]), sep=',', file=fout)"
   ]
  },
  {
   "cell_type": "code",
   "execution_count": null,
   "metadata": {},
   "outputs": [],
   "source": []
  }
 ],
 "metadata": {
  "kernelspec": {
   "display_name": "Python 3",
   "language": "python",
   "name": "python3"
  },
  "language_info": {
   "codemirror_mode": {
    "name": "ipython",
    "version": 3
   },
   "file_extension": ".py",
   "mimetype": "text/x-python",
   "name": "python",
   "nbconvert_exporter": "python",
   "pygments_lexer": "ipython3",
   "version": "3.7.1"
  }
 },
 "nbformat": 4,
 "nbformat_minor": 2
}
